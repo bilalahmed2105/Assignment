{
 "cells": [
  {
   "cell_type": "code",
   "execution_count": 43,
   "metadata": {},
   "outputs": [
    {
     "name": "stdout",
     "output_type": "stream",
     "text": [
      "Twinkle, twinkle, little star\n",
      "    How I wonder what you are!\n",
      "        Up above the world so high,\n",
      "        Like a diamond in the sky.\n",
      "Twinkle, twinkle, little star,\n",
      "    How I wonder what you are\n"
     ]
    }
   ],
   "source": [
    "# ROLL NO. \"PY02222\"\n",
    "# NAME : MUHAMMAD BILAL\n",
    "\n",
    "# Q no 1\n",
    "a =\"Twinkle, twinkle, little star\"\n",
    "b =\"    How I wonder what you are!\"\n",
    "c =\"        Up above the world so high,\"\n",
    "d =\"        Like a diamond in the sky.\"\n",
    "e =\"Twinkle, twinkle, little star,\"\n",
    "f =\"    How I wonder what you are\"\n",
    "print (a)\n",
    "print (b)\n",
    "print (c)\n",
    "print (d)\n",
    "print (e)\n",
    "print (f)\n"
   ]
  },
  {
   "cell_type": "code",
   "execution_count": 44,
   "metadata": {},
   "outputs": [
    {
     "name": "stdout",
     "output_type": "stream",
     "text": [
      "3.7.4 (default, Aug  9 2019, 18:34:13) [MSC v.1915 64 bit (AMD64)]\n"
     ]
    }
   ],
   "source": [
    "# Q NO 2\n",
    "import sys\n",
    "print(sys.version)"
   ]
  },
  {
   "cell_type": "code",
   "execution_count": 45,
   "metadata": {},
   "outputs": [
    {
     "name": "stdout",
     "output_type": "stream",
     "text": [
      "Current date is 04-11-19  and the time is 17:54:49 \n"
     ]
    }
   ],
   "source": [
    "# Q NO 3\n",
    "import datetime\n",
    "now = datetime.datetime.now()\n",
    "print (now.strftime(\"Current date is\" \" %d-%m-%y \" \" and the time is\" \" %H:%M:%S \"))\n"
   ]
  },
  {
   "cell_type": "code",
   "execution_count": 46,
   "metadata": {},
   "outputs": [
    {
     "name": "stdout",
     "output_type": "stream",
     "text": [
      "Entre the radius in meter : 55\n",
      "AREA OF THE CIRCLE  9504.55\n"
     ]
    }
   ],
   "source": [
    "# Q NO 4\n",
    "pie = 3.142\n",
    "str_radius = input (\"Entre the radius in meter : \")\n",
    "radius = float(str_radius)\n",
    "square_of_radius =  (radius**2)\n",
    "area = pie*square_of_radius\n",
    "print (\"AREA OF THE CIRCLE \", area)"
   ]
  },
  {
   "cell_type": "code",
   "execution_count": 47,
   "metadata": {},
   "outputs": [
    {
     "name": "stdout",
     "output_type": "stream",
     "text": [
      "ENTRE YOUR FIRST INCOME 64747\n",
      "ENTRE YOUR SECOND INCOME 89575689\n",
      "YOUR TOTAL INCOME IS =  89640436.0\n"
     ]
    }
   ],
   "source": [
    "# Q NO 5\n",
    "income_1 = input (\"ENTRE YOUR FIRST INCOME \")\n",
    "income_2 = input (\"ENTRE YOUR SECOND INCOME \")\n",
    "total_income = float(income_1) + float(income_2)\n",
    "print (\"YOUR TOTAL INCOME IS = \" , total_income)"
   ]
  },
  {
   "cell_type": "code",
   "execution_count": null,
   "metadata": {},
   "outputs": [],
   "source": []
  }
 ],
 "metadata": {
  "kernelspec": {
   "display_name": "Python 3",
   "language": "python",
   "name": "python3"
  },
  "language_info": {
   "codemirror_mode": {
    "name": "ipython",
    "version": 3
   },
   "file_extension": ".py",
   "mimetype": "text/x-python",
   "name": "python",
   "nbconvert_exporter": "python",
   "pygments_lexer": "ipython3",
   "version": "3.7.4"
  }
 },
 "nbformat": 4,
 "nbformat_minor": 2
}
